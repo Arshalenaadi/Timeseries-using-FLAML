{
 "cells": [
  {
   "cell_type": "code",
   "execution_count": 1,
   "id": "09546a17",
   "metadata": {},
   "outputs": [],
   "source": [
    "import numpy as np\n",
    "import pandas as pd\n",
    "import seaborn as sns\n",
    "import matplotlib.pyplot as plt\n",
    "import warnings\n",
    "warnings.filterwarnings(\"ignore\")\n",
    "from sklearn import preprocessing\n",
    "import missingno as msno"
   ]
  },
  {
   "cell_type": "code",
   "execution_count": 2,
   "id": "e5291790",
   "metadata": {},
   "outputs": [
    {
     "data": {
      "text/html": [
       "<div>\n",
       "<style scoped>\n",
       "    .dataframe tbody tr th:only-of-type {\n",
       "        vertical-align: middle;\n",
       "    }\n",
       "\n",
       "    .dataframe tbody tr th {\n",
       "        vertical-align: top;\n",
       "    }\n",
       "\n",
       "    .dataframe thead th {\n",
       "        text-align: right;\n",
       "    }\n",
       "</style>\n",
       "<table border=\"1\" class=\"dataframe\">\n",
       "  <thead>\n",
       "    <tr style=\"text-align: right;\">\n",
       "      <th></th>\n",
       "      <th>ID</th>\n",
       "      <th>Datetime</th>\n",
       "      <th>Count</th>\n",
       "    </tr>\n",
       "  </thead>\n",
       "  <tbody>\n",
       "    <tr>\n",
       "      <th>0</th>\n",
       "      <td>0</td>\n",
       "      <td>25-08-2012 00:00</td>\n",
       "      <td>8</td>\n",
       "    </tr>\n",
       "    <tr>\n",
       "      <th>1</th>\n",
       "      <td>1</td>\n",
       "      <td>25-08-2012 01:00</td>\n",
       "      <td>2</td>\n",
       "    </tr>\n",
       "    <tr>\n",
       "      <th>2</th>\n",
       "      <td>2</td>\n",
       "      <td>25-08-2012 02:00</td>\n",
       "      <td>6</td>\n",
       "    </tr>\n",
       "    <tr>\n",
       "      <th>3</th>\n",
       "      <td>3</td>\n",
       "      <td>25-08-2012 03:00</td>\n",
       "      <td>2</td>\n",
       "    </tr>\n",
       "    <tr>\n",
       "      <th>4</th>\n",
       "      <td>4</td>\n",
       "      <td>25-08-2012 04:00</td>\n",
       "      <td>2</td>\n",
       "    </tr>\n",
       "  </tbody>\n",
       "</table>\n",
       "</div>"
      ],
      "text/plain": [
       "   ID          Datetime  Count\n",
       "0   0  25-08-2012 00:00      8\n",
       "1   1  25-08-2012 01:00      2\n",
       "2   2  25-08-2012 02:00      6\n",
       "3   3  25-08-2012 03:00      2\n",
       "4   4  25-08-2012 04:00      2"
      ]
     },
     "execution_count": 2,
     "metadata": {},
     "output_type": "execute_result"
    }
   ],
   "source": [
    "train=pd.read_csv(r\"C:\\Users\\Chinnu\\Downloads\\Train_SU63ISt.csv\")# reading the train dataset\n",
    "train.head()"
   ]
  },
  {
   "cell_type": "code",
   "execution_count": 3,
   "id": "c8a01ae1",
   "metadata": {},
   "outputs": [
    {
     "data": {
      "text/html": [
       "<div>\n",
       "<style scoped>\n",
       "    .dataframe tbody tr th:only-of-type {\n",
       "        vertical-align: middle;\n",
       "    }\n",
       "\n",
       "    .dataframe tbody tr th {\n",
       "        vertical-align: top;\n",
       "    }\n",
       "\n",
       "    .dataframe thead th {\n",
       "        text-align: right;\n",
       "    }\n",
       "</style>\n",
       "<table border=\"1\" class=\"dataframe\">\n",
       "  <thead>\n",
       "    <tr style=\"text-align: right;\">\n",
       "      <th></th>\n",
       "      <th>ID</th>\n",
       "      <th>Datetime</th>\n",
       "    </tr>\n",
       "  </thead>\n",
       "  <tbody>\n",
       "    <tr>\n",
       "      <th>0</th>\n",
       "      <td>18288</td>\n",
       "      <td>26-09-2014 00:00</td>\n",
       "    </tr>\n",
       "    <tr>\n",
       "      <th>1</th>\n",
       "      <td>18289</td>\n",
       "      <td>26-09-2014 01:00</td>\n",
       "    </tr>\n",
       "    <tr>\n",
       "      <th>2</th>\n",
       "      <td>18290</td>\n",
       "      <td>26-09-2014 02:00</td>\n",
       "    </tr>\n",
       "    <tr>\n",
       "      <th>3</th>\n",
       "      <td>18291</td>\n",
       "      <td>26-09-2014 03:00</td>\n",
       "    </tr>\n",
       "    <tr>\n",
       "      <th>4</th>\n",
       "      <td>18292</td>\n",
       "      <td>26-09-2014 04:00</td>\n",
       "    </tr>\n",
       "  </tbody>\n",
       "</table>\n",
       "</div>"
      ],
      "text/plain": [
       "      ID          Datetime\n",
       "0  18288  26-09-2014 00:00\n",
       "1  18289  26-09-2014 01:00\n",
       "2  18290  26-09-2014 02:00\n",
       "3  18291  26-09-2014 03:00\n",
       "4  18292  26-09-2014 04:00"
      ]
     },
     "execution_count": 3,
     "metadata": {},
     "output_type": "execute_result"
    }
   ],
   "source": [
    "test=pd.read_csv(r\"C:\\Users\\Chinnu\\Downloads\\Test_0qrQsBZ.csv\")# reading the train dataset\n",
    "test.head()"
   ]
  },
  {
   "cell_type": "code",
   "execution_count": 4,
   "id": "22ca32fb",
   "metadata": {},
   "outputs": [
    {
     "data": {
      "text/plain": [
       "ID           int64\n",
       "Datetime    object\n",
       "Count        int64\n",
       "dtype: object"
      ]
     },
     "execution_count": 4,
     "metadata": {},
     "output_type": "execute_result"
    }
   ],
   "source": [
    "train.dtypes"
   ]
  },
  {
   "cell_type": "code",
   "execution_count": 5,
   "id": "99689937",
   "metadata": {},
   "outputs": [
    {
     "data": {
      "text/plain": [
       "ID                   int64\n",
       "Datetime    datetime64[ns]\n",
       "Count                int64\n",
       "dtype: object"
      ]
     },
     "execution_count": 5,
     "metadata": {},
     "output_type": "execute_result"
    }
   ],
   "source": [
    "train['Datetime'] = pd.to_datetime(train['Datetime'])\n",
    "train.dtypes\n"
   ]
  },
  {
   "cell_type": "code",
   "execution_count": 6,
   "id": "5e27b7c2",
   "metadata": {},
   "outputs": [
    {
     "data": {
      "text/html": [
       "<div>\n",
       "<style scoped>\n",
       "    .dataframe tbody tr th:only-of-type {\n",
       "        vertical-align: middle;\n",
       "    }\n",
       "\n",
       "    .dataframe tbody tr th {\n",
       "        vertical-align: top;\n",
       "    }\n",
       "\n",
       "    .dataframe thead th {\n",
       "        text-align: right;\n",
       "    }\n",
       "</style>\n",
       "<table border=\"1\" class=\"dataframe\">\n",
       "  <thead>\n",
       "    <tr style=\"text-align: right;\">\n",
       "      <th></th>\n",
       "      <th>ID</th>\n",
       "      <th>Datetime</th>\n",
       "      <th>Count</th>\n",
       "      <th>year</th>\n",
       "      <th>month</th>\n",
       "      <th>day</th>\n",
       "      <th>dayofweek</th>\n",
       "    </tr>\n",
       "  </thead>\n",
       "  <tbody>\n",
       "    <tr>\n",
       "      <th>0</th>\n",
       "      <td>0</td>\n",
       "      <td>2012-08-25 00:00:00</td>\n",
       "      <td>8</td>\n",
       "      <td>2012</td>\n",
       "      <td>8</td>\n",
       "      <td>25</td>\n",
       "      <td>5</td>\n",
       "    </tr>\n",
       "    <tr>\n",
       "      <th>1</th>\n",
       "      <td>1</td>\n",
       "      <td>2012-08-25 01:00:00</td>\n",
       "      <td>2</td>\n",
       "      <td>2012</td>\n",
       "      <td>8</td>\n",
       "      <td>25</td>\n",
       "      <td>5</td>\n",
       "    </tr>\n",
       "    <tr>\n",
       "      <th>2</th>\n",
       "      <td>2</td>\n",
       "      <td>2012-08-25 02:00:00</td>\n",
       "      <td>6</td>\n",
       "      <td>2012</td>\n",
       "      <td>8</td>\n",
       "      <td>25</td>\n",
       "      <td>5</td>\n",
       "    </tr>\n",
       "    <tr>\n",
       "      <th>3</th>\n",
       "      <td>3</td>\n",
       "      <td>2012-08-25 03:00:00</td>\n",
       "      <td>2</td>\n",
       "      <td>2012</td>\n",
       "      <td>8</td>\n",
       "      <td>25</td>\n",
       "      <td>5</td>\n",
       "    </tr>\n",
       "    <tr>\n",
       "      <th>4</th>\n",
       "      <td>4</td>\n",
       "      <td>2012-08-25 04:00:00</td>\n",
       "      <td>2</td>\n",
       "      <td>2012</td>\n",
       "      <td>8</td>\n",
       "      <td>25</td>\n",
       "      <td>5</td>\n",
       "    </tr>\n",
       "  </tbody>\n",
       "</table>\n",
       "</div>"
      ],
      "text/plain": [
       "   ID            Datetime  Count  year  month  day  dayofweek\n",
       "0   0 2012-08-25 00:00:00      8  2012      8   25          5\n",
       "1   1 2012-08-25 01:00:00      2  2012      8   25          5\n",
       "2   2 2012-08-25 02:00:00      6  2012      8   25          5\n",
       "3   3 2012-08-25 03:00:00      2  2012      8   25          5\n",
       "4   4 2012-08-25 04:00:00      2  2012      8   25          5"
      ]
     },
     "execution_count": 6,
     "metadata": {},
     "output_type": "execute_result"
    }
   ],
   "source": [
    "train['year']=train['Datetime'].apply(lambda x:x.year)\n",
    "train['month']=train['Datetime'].apply(lambda x:x.month)\n",
    "train['day']=train['Datetime'].apply(lambda x:x.day)\n",
    "train['dayofweek']=train['Datetime'].apply(lambda x:x.dayofweek)\n",
    "train.head()"
   ]
  },
  {
   "cell_type": "code",
   "execution_count": 7,
   "id": "b581092c",
   "metadata": {},
   "outputs": [
    {
     "data": {
      "text/plain": [
       "ID                   int64\n",
       "Datetime    datetime64[ns]\n",
       "dtype: object"
      ]
     },
     "execution_count": 7,
     "metadata": {},
     "output_type": "execute_result"
    }
   ],
   "source": [
    "test['Datetime'] = pd.to_datetime(test['Datetime'])\n",
    "test.dtypes"
   ]
  },
  {
   "cell_type": "code",
   "execution_count": 8,
   "id": "b379a380",
   "metadata": {},
   "outputs": [
    {
     "data": {
      "text/html": [
       "<div>\n",
       "<style scoped>\n",
       "    .dataframe tbody tr th:only-of-type {\n",
       "        vertical-align: middle;\n",
       "    }\n",
       "\n",
       "    .dataframe tbody tr th {\n",
       "        vertical-align: top;\n",
       "    }\n",
       "\n",
       "    .dataframe thead th {\n",
       "        text-align: right;\n",
       "    }\n",
       "</style>\n",
       "<table border=\"1\" class=\"dataframe\">\n",
       "  <thead>\n",
       "    <tr style=\"text-align: right;\">\n",
       "      <th></th>\n",
       "      <th>ID</th>\n",
       "      <th>Datetime</th>\n",
       "      <th>year</th>\n",
       "      <th>month</th>\n",
       "      <th>day</th>\n",
       "      <th>dayofweek</th>\n",
       "    </tr>\n",
       "  </thead>\n",
       "  <tbody>\n",
       "    <tr>\n",
       "      <th>0</th>\n",
       "      <td>18288</td>\n",
       "      <td>2014-09-26 00:00:00</td>\n",
       "      <td>2014</td>\n",
       "      <td>9</td>\n",
       "      <td>26</td>\n",
       "      <td>4</td>\n",
       "    </tr>\n",
       "    <tr>\n",
       "      <th>1</th>\n",
       "      <td>18289</td>\n",
       "      <td>2014-09-26 01:00:00</td>\n",
       "      <td>2014</td>\n",
       "      <td>9</td>\n",
       "      <td>26</td>\n",
       "      <td>4</td>\n",
       "    </tr>\n",
       "    <tr>\n",
       "      <th>2</th>\n",
       "      <td>18290</td>\n",
       "      <td>2014-09-26 02:00:00</td>\n",
       "      <td>2014</td>\n",
       "      <td>9</td>\n",
       "      <td>26</td>\n",
       "      <td>4</td>\n",
       "    </tr>\n",
       "    <tr>\n",
       "      <th>3</th>\n",
       "      <td>18291</td>\n",
       "      <td>2014-09-26 03:00:00</td>\n",
       "      <td>2014</td>\n",
       "      <td>9</td>\n",
       "      <td>26</td>\n",
       "      <td>4</td>\n",
       "    </tr>\n",
       "    <tr>\n",
       "      <th>4</th>\n",
       "      <td>18292</td>\n",
       "      <td>2014-09-26 04:00:00</td>\n",
       "      <td>2014</td>\n",
       "      <td>9</td>\n",
       "      <td>26</td>\n",
       "      <td>4</td>\n",
       "    </tr>\n",
       "  </tbody>\n",
       "</table>\n",
       "</div>"
      ],
      "text/plain": [
       "      ID            Datetime  year  month  day  dayofweek\n",
       "0  18288 2014-09-26 00:00:00  2014      9   26          4\n",
       "1  18289 2014-09-26 01:00:00  2014      9   26          4\n",
       "2  18290 2014-09-26 02:00:00  2014      9   26          4\n",
       "3  18291 2014-09-26 03:00:00  2014      9   26          4\n",
       "4  18292 2014-09-26 04:00:00  2014      9   26          4"
      ]
     },
     "execution_count": 8,
     "metadata": {},
     "output_type": "execute_result"
    }
   ],
   "source": [
    "test['year']=test['Datetime'].apply(lambda x:x.year)\n",
    "test['month']=test['Datetime'].apply(lambda x:x.month)\n",
    "test['day']=test['Datetime'].apply(lambda x:x.day)\n",
    "test['dayofweek']=test['Datetime'].apply(lambda x:x.dayofweek)\n",
    "test.head()"
   ]
  },
  {
   "cell_type": "raw",
   "id": "2f718603",
   "metadata": {},
   "source": [
    "import statsmodels.api as sm\n",
    "sm.tsa.seasonal_decompose(train.Count).plot()\n",
    "result = sm.tsa.stattools.adfuller(train.Count)\n",
    "plt.show()"
   ]
  },
  {
   "cell_type": "raw",
   "id": "0e6227c5",
   "metadata": {},
   "source": [
    "import statsmodels.api as sm\n",
    "y_hat_avg = test.copy()\n",
    "fit1 = sm.tsa.statespace.SARIMAX(train.Count, order=(2, 1, 4),seasonal_order=(0,1,1,7)).fit()\n",
    "y_hat_avg['SARIMA'] = fit1.predict(start=\"2013-11-1\", end=\"2013-12-31\", dynamic=True)\n",
    "plt.figure(figsize=(16,8))\n",
    "plt.plot( train['Count'], label='Train')\n",
    "plt.plot(test['Count'], label='Test')\n",
    "plt.plot(y_hat_avg['SARIMA'], label='SARIMA')\n",
    "plt.legend(loc='best')\n",
    "plt.show()"
   ]
  },
  {
   "cell_type": "code",
   "execution_count": 9,
   "id": "25e12259",
   "metadata": {},
   "outputs": [
    {
     "data": {
      "text/plain": [
       "(18288, 7)"
      ]
     },
     "execution_count": 9,
     "metadata": {},
     "output_type": "execute_result"
    }
   ],
   "source": [
    "train.shape"
   ]
  },
  {
   "cell_type": "code",
   "execution_count": 10,
   "id": "f6a4860e",
   "metadata": {},
   "outputs": [
    {
     "data": {
      "text/plain": [
       "ID           0\n",
       "Datetime     0\n",
       "Count        0\n",
       "year         0\n",
       "month        0\n",
       "day          0\n",
       "dayofweek    0\n",
       "dtype: int64"
      ]
     },
     "execution_count": 10,
     "metadata": {},
     "output_type": "execute_result"
    }
   ],
   "source": [
    "train.isna().sum()"
   ]
  },
  {
   "cell_type": "code",
   "execution_count": 11,
   "id": "567d9413",
   "metadata": {},
   "outputs": [
    {
     "data": {
      "text/plain": [
       "ID           0\n",
       "Datetime     0\n",
       "year         0\n",
       "month        0\n",
       "day          0\n",
       "dayofweek    0\n",
       "dtype: int64"
      ]
     },
     "execution_count": 11,
     "metadata": {},
     "output_type": "execute_result"
    }
   ],
   "source": [
    "test.isna().sum()"
   ]
  },
  {
   "cell_type": "code",
   "execution_count": 12,
   "id": "5b9d9962",
   "metadata": {},
   "outputs": [
    {
     "data": {
      "text/plain": [
       "(5112, 6)"
      ]
     },
     "execution_count": 12,
     "metadata": {},
     "output_type": "execute_result"
    }
   ],
   "source": [
    "test.shape"
   ]
  },
  {
   "cell_type": "code",
   "execution_count": 13,
   "id": "19338be9",
   "metadata": {},
   "outputs": [
    {
     "data": {
      "image/png": "[encoded data removed]",
      "text/plain": [
       "<Figure size 1800x1080 with 1 Axes>"
      ]
     },
     "metadata": {
      "needs_background": "light"
     },
     "output_type": "display_data"
    }
   ],
   "source": [
    "graph=train.select_dtypes(include=['float64','int64'])# check outliers\n",
    "graph.boxplot(figsize=(25,15))\n",
    "plt.xticks(rotation=90)\n",
    "plt.show()"
   ]
  },
  {
   "cell_type": "raw",
   "id": "b81aa31c",
   "metadata": {},
   "source": [
    "Q1=train.quantile(.25)\n",
    "Q3=train.quantile(.75)\n",
    "IQR=Q3-Q1\n",
    "print(((train<(Q1-1.5*IQR))|(train>(Q3+1.5*IQR))).sum())"
   ]
  },
  {
   "cell_type": "code",
   "execution_count": 14,
   "id": "ad08b0fa",
   "metadata": {},
   "outputs": [],
   "source": [
    "train['Count']=np.log(train['Count'])"
   ]
  },
  {
   "cell_type": "code",
   "execution_count": 15,
   "id": "34e0b3aa",
   "metadata": {},
   "outputs": [
    {
     "data": {
      "image/png": "[encoded data removed]",
      "text/plain": [
       "<Figure size 1800x1080 with 1 Axes>"
      ]
     },
     "metadata": {
      "needs_background": "light"
     },
     "output_type": "display_data"
    }
   ],
   "source": [
    "graph=train.select_dtypes(include=['float64','int64'])# check outliers\n",
    "graph.boxplot(figsize=(25,15))\n",
    "plt.xticks(rotation=90)\n",
    "plt.show()"
   ]
  },
  {
   "cell_type": "code",
   "execution_count": 16,
   "id": "947adcd6",
   "metadata": {},
   "outputs": [
    {
     "data": {
      "text/html": [
       "<div>\n",
       "<style scoped>\n",
       "    .dataframe tbody tr th:only-of-type {\n",
       "        vertical-align: middle;\n",
       "    }\n",
       "\n",
       "    .dataframe tbody tr th {\n",
       "        vertical-align: top;\n",
       "    }\n",
       "\n",
       "    .dataframe thead th {\n",
       "        text-align: right;\n",
       "    }\n",
       "</style>\n",
       "<table border=\"1\" class=\"dataframe\">\n",
       "  <thead>\n",
       "    <tr style=\"text-align: right;\">\n",
       "      <th></th>\n",
       "      <th>ID</th>\n",
       "      <th>Count</th>\n",
       "      <th>year</th>\n",
       "      <th>month</th>\n",
       "      <th>day</th>\n",
       "      <th>dayofweek</th>\n",
       "    </tr>\n",
       "  </thead>\n",
       "  <tbody>\n",
       "    <tr>\n",
       "      <th>0</th>\n",
       "      <td>0</td>\n",
       "      <td>2.079442</td>\n",
       "      <td>2012</td>\n",
       "      <td>8</td>\n",
       "      <td>25</td>\n",
       "      <td>5</td>\n",
       "    </tr>\n",
       "    <tr>\n",
       "      <th>1</th>\n",
       "      <td>1</td>\n",
       "      <td>0.693147</td>\n",
       "      <td>2012</td>\n",
       "      <td>8</td>\n",
       "      <td>25</td>\n",
       "      <td>5</td>\n",
       "    </tr>\n",
       "    <tr>\n",
       "      <th>2</th>\n",
       "      <td>2</td>\n",
       "      <td>1.791759</td>\n",
       "      <td>2012</td>\n",
       "      <td>8</td>\n",
       "      <td>25</td>\n",
       "      <td>5</td>\n",
       "    </tr>\n",
       "    <tr>\n",
       "      <th>3</th>\n",
       "      <td>3</td>\n",
       "      <td>0.693147</td>\n",
       "      <td>2012</td>\n",
       "      <td>8</td>\n",
       "      <td>25</td>\n",
       "      <td>5</td>\n",
       "    </tr>\n",
       "    <tr>\n",
       "      <th>4</th>\n",
       "      <td>4</td>\n",
       "      <td>0.693147</td>\n",
       "      <td>2012</td>\n",
       "      <td>8</td>\n",
       "      <td>25</td>\n",
       "      <td>5</td>\n",
       "    </tr>\n",
       "  </tbody>\n",
       "</table>\n",
       "</div>"
      ],
      "text/plain": [
       "   ID     Count  year  month  day  dayofweek\n",
       "0   0  2.079442  2012      8   25          5\n",
       "1   1  0.693147  2012      8   25          5\n",
       "2   2  1.791759  2012      8   25          5\n",
       "3   3  0.693147  2012      8   25          5\n",
       "4   4  0.693147  2012      8   25          5"
      ]
     },
     "execution_count": 16,
     "metadata": {},
     "output_type": "execute_result"
    }
   ],
   "source": [
    "d_list = ['Datetime']\n",
    "train = train.drop(d_list,axis = 1 )\n",
    "train.head()"
   ]
  },
  {
   "cell_type": "code",
   "execution_count": 17,
   "id": "c3dcecf7",
   "metadata": {},
   "outputs": [
    {
     "data": {
      "text/html": [
       "<div>\n",
       "<style scoped>\n",
       "    .dataframe tbody tr th:only-of-type {\n",
       "        vertical-align: middle;\n",
       "    }\n",
       "\n",
       "    .dataframe tbody tr th {\n",
       "        vertical-align: top;\n",
       "    }\n",
       "\n",
       "    .dataframe thead th {\n",
       "        text-align: right;\n",
       "    }\n",
       "</style>\n",
       "<table border=\"1\" class=\"dataframe\">\n",
       "  <thead>\n",
       "    <tr style=\"text-align: right;\">\n",
       "      <th></th>\n",
       "      <th>ID</th>\n",
       "      <th>year</th>\n",
       "      <th>month</th>\n",
       "      <th>day</th>\n",
       "      <th>dayofweek</th>\n",
       "    </tr>\n",
       "  </thead>\n",
       "  <tbody>\n",
       "    <tr>\n",
       "      <th>0</th>\n",
       "      <td>18288</td>\n",
       "      <td>2014</td>\n",
       "      <td>9</td>\n",
       "      <td>26</td>\n",
       "      <td>4</td>\n",
       "    </tr>\n",
       "    <tr>\n",
       "      <th>1</th>\n",
       "      <td>18289</td>\n",
       "      <td>2014</td>\n",
       "      <td>9</td>\n",
       "      <td>26</td>\n",
       "      <td>4</td>\n",
       "    </tr>\n",
       "    <tr>\n",
       "      <th>2</th>\n",
       "      <td>18290</td>\n",
       "      <td>2014</td>\n",
       "      <td>9</td>\n",
       "      <td>26</td>\n",
       "      <td>4</td>\n",
       "    </tr>\n",
       "    <tr>\n",
       "      <th>3</th>\n",
       "      <td>18291</td>\n",
       "      <td>2014</td>\n",
       "      <td>9</td>\n",
       "      <td>26</td>\n",
       "      <td>4</td>\n",
       "    </tr>\n",
       "    <tr>\n",
       "      <th>4</th>\n",
       "      <td>18292</td>\n",
       "      <td>2014</td>\n",
       "      <td>9</td>\n",
       "      <td>26</td>\n",
       "      <td>4</td>\n",
       "    </tr>\n",
       "  </tbody>\n",
       "</table>\n",
       "</div>"
      ],
      "text/plain": [
       "      ID  year  month  day  dayofweek\n",
       "0  18288  2014      9   26          4\n",
       "1  18289  2014      9   26          4\n",
       "2  18290  2014      9   26          4\n",
       "3  18291  2014      9   26          4\n",
       "4  18292  2014      9   26          4"
      ]
     },
     "execution_count": 17,
     "metadata": {},
     "output_type": "execute_result"
    }
   ],
   "source": [
    "d_list = ['Datetime']\n",
    "test = test.drop(d_list,axis = 1 )\n",
    "test.head()"
   ]
  },
  {
   "cell_type": "code",
   "execution_count": 18,
   "id": "7ba48b05",
   "metadata": {},
   "outputs": [],
   "source": [
    "X=train.drop('Count', axis = 1)\n",
    "y = train['Count']\n",
    "X_test1 = test"
   ]
  },
  {
   "cell_type": "code",
   "execution_count": 19,
   "id": "feb8f1c0",
   "metadata": {},
   "outputs": [],
   "source": [
    "#splitting of data\n",
    "from sklearn.model_selection import train_test_split\n",
    "X_train,X_test,y_train,y_test=train_test_split(X,y,test_size=.2,random_state=42)"
   ]
  },
  {
   "cell_type": "code",
   "execution_count": 20,
   "id": "5e0293b2",
   "metadata": {},
   "outputs": [
    {
     "name": "stdout",
     "output_type": "stream",
     "text": [
      "Requirement already satisfied: flaml in c:\\users\\chinnu\\anaconda3\\lib\\site-packages (1.0.9)\n",
      "Requirement already satisfied: scikit-learn>=0.24 in c:\\users\\chinnu\\anaconda3\\lib\\site-packages (from flaml) (1.1.1)\n",
      "Requirement already satisfied: lightgbm>=2.3.1 in c:\\users\\chinnu\\anaconda3\\lib\\site-packages (from flaml) (3.3.2)\n",
      "Requirement already satisfied: NumPy>=1.17.0rc1 in c:\\users\\chinnu\\anaconda3\\lib\\site-packages (from flaml) (1.20.3)\n",
      "Requirement already satisfied: pandas>=1.1.4 in c:\\users\\chinnu\\anaconda3\\lib\\site-packages (from flaml) (1.3.4)\n",
      "Requirement already satisfied: scipy>=1.4.1 in c:\\users\\chinnu\\anaconda3\\lib\\site-packages (from flaml) (1.7.1)\n",
      "Requirement already satisfied: xgboost>=0.90 in c:\\users\\chinnu\\anaconda3\\lib\\site-packages (from flaml) (1.6.1)\n",
      "Requirement already satisfied: wheel in c:\\users\\chinnu\\anaconda3\\lib\\site-packages (from lightgbm>=2.3.1->flaml) (0.37.0)\n",
      "Requirement already satisfied: pytz>=2017.3 in c:\\users\\chinnu\\anaconda3\\lib\\site-packages (from pandas>=1.1.4->flaml) (2021.3)\n",
      "Requirement already satisfied: python-dateutil>=2.7.3 in c:\\users\\chinnu\\anaconda3\\lib\\site-packages (from pandas>=1.1.4->flaml) (2.8.2)\n",
      "Requirement already satisfied: threadpoolctl>=2.0.0 in c:\\users\\chinnu\\anaconda3\\lib\\site-packages (from scikit-learn>=0.24->flaml) (2.2.0)\n",
      "Requirement already satisfied: joblib>=1.0.0 in c:\\users\\chinnu\\anaconda3\\lib\\site-packages (from scikit-learn>=0.24->flaml) (1.1.0)\n",
      "Requirement already satisfied: six>=1.5 in c:\\users\\chinnu\\anaconda3\\lib\\site-packages (from python-dateutil>=2.7.3->pandas>=1.1.4->flaml) (1.16.0)\n",
      "\n",
      "[notice] A new release of pip available: 22.2 -> 22.2.2\n",
      "[notice] To update, run: python.exe -m pip install --upgrade pip\n",
      "Note: you may need to restart the kernel to use updated packages.\n"
     ]
    }
   ],
   "source": [
    "pip install flaml"
   ]
  },
  {
   "cell_type": "code",
   "execution_count": 21,
   "id": "6f54174b",
   "metadata": {},
   "outputs": [
    {
     "name": "stderr",
     "output_type": "stream",
     "text": [
      "[flaml.automl: 08-10 14:00:37] {2444} INFO - task = regression\n",
      "[flaml.automl: 08-10 14:00:37] {2446} INFO - Data split method: uniform\n",
      "[flaml.automl: 08-10 14:00:37] {2449} INFO - Evaluation method: cv\n",
      "[flaml.automl: 08-10 14:00:37] {2568} INFO - Minimizing error metric: 1-r2\n",
      "[flaml.automl: 08-10 14:00:37] {2708} INFO - List of ML learners in AutoML Run: ['lgbm']\n",
      "[flaml.automl: 08-10 14:00:37] {3010} INFO - iteration 0, current learner lgbm\n",
      "[flaml.automl: 08-10 14:00:38] {3143} INFO - Estimated sufficient time budget=674s. Estimated necessary time budget=1s.\n",
      "[flaml.automl: 08-10 14:00:38] {3190} INFO -  at 0.1s,\testimator lgbm's best error=0.8524,\tbest estimator lgbm's best error=0.8524\n",
      "[flaml.automl: 08-10 14:00:38] {3010} INFO - iteration 1, current learner lgbm\n",
      "[flaml.automl: 08-10 14:00:38] {3190} INFO -  at 0.2s,\testimator lgbm's best error=0.8524,\tbest estimator lgbm's best error=0.8524\n",
      "[flaml.automl: 08-10 14:00:38] {3010} INFO - iteration 2, current learner lgbm\n",
      "[flaml.automl: 08-10 14:00:38] {3190} INFO -  at 0.2s,\testimator lgbm's best error=0.6840,\tbest estimator lgbm's best error=0.6840\n",
      "[flaml.automl: 08-10 14:00:38] {3010} INFO - iteration 3, current learner lgbm\n",
      "[flaml.automl: 08-10 14:00:38] {3190} INFO -  at 0.3s,\testimator lgbm's best error=0.5403,\tbest estimator lgbm's best error=0.5403\n",
      "[flaml.automl: 08-10 14:00:38] {3010} INFO - iteration 4, current learner lgbm\n",
      "[flaml.automl: 08-10 14:00:38] {3190} INFO -  at 0.4s,\testimator lgbm's best error=0.4350,\tbest estimator lgbm's best error=0.4350\n",
      "[flaml.automl: 08-10 14:00:38] {3010} INFO - iteration 5, current learner lgbm\n",
      "[flaml.automl: 08-10 14:00:38] {3190} INFO -  at 0.4s,\testimator lgbm's best error=0.4350,\tbest estimator lgbm's best error=0.4350\n",
      "[flaml.automl: 08-10 14:00:38] {3010} INFO - iteration 6, current learner lgbm\n",
      "[flaml.automl: 08-10 14:00:38] {3190} INFO -  at 0.5s,\testimator lgbm's best error=0.4350,\tbest estimator lgbm's best error=0.4350\n",
      "[flaml.automl: 08-10 14:00:38] {3010} INFO - iteration 7, current learner lgbm\n",
      "[flaml.automl: 08-10 14:00:38] {3190} INFO -  at 0.6s,\testimator lgbm's best error=0.1840,\tbest estimator lgbm's best error=0.1840\n",
      "[flaml.automl: 08-10 14:00:38] {3010} INFO - iteration 8, current learner lgbm\n",
      "[flaml.automl: 08-10 14:00:38] {3190} INFO -  at 0.7s,\testimator lgbm's best error=0.1644,\tbest estimator lgbm's best error=0.1644\n",
      "[flaml.automl: 08-10 14:00:38] {3010} INFO - iteration 9, current learner lgbm\n",
      "[flaml.automl: 08-10 14:00:38] {3190} INFO -  at 0.7s,\testimator lgbm's best error=0.1644,\tbest estimator lgbm's best error=0.1644\n",
      "[flaml.automl: 08-10 14:00:38] {3010} INFO - iteration 10, current learner lgbm\n",
      "[flaml.automl: 08-10 14:00:38] {3190} INFO -  at 0.8s,\testimator lgbm's best error=0.1644,\tbest estimator lgbm's best error=0.1644\n",
      "[flaml.automl: 08-10 14:00:38] {3010} INFO - iteration 11, current learner lgbm\n",
      "[flaml.automl: 08-10 14:00:38] {3190} INFO -  at 0.9s,\testimator lgbm's best error=0.1482,\tbest estimator lgbm's best error=0.1482\n",
      "[flaml.automl: 08-10 14:00:38] {3010} INFO - iteration 12, current learner lgbm\n",
      "[flaml.automl: 08-10 14:00:38] {3190} INFO -  at 0.9s,\testimator lgbm's best error=0.1482,\tbest estimator lgbm's best error=0.1482\n",
      "[flaml.automl: 08-10 14:00:38] {3010} INFO - iteration 13, current learner lgbm\n",
      "[flaml.automl: 08-10 14:00:38] {3190} INFO -  at 1.0s,\testimator lgbm's best error=0.1385,\tbest estimator lgbm's best error=0.1385\n",
      "[flaml.automl: 08-10 14:00:38] {3010} INFO - iteration 14, current learner lgbm\n",
      "[flaml.automl: 08-10 14:00:38] {3190} INFO -  at 1.1s,\testimator lgbm's best error=0.1385,\tbest estimator lgbm's best error=0.1385\n",
      "[flaml.automl: 08-10 14:00:38] {3010} INFO - iteration 15, current learner lgbm\n",
      "[flaml.automl: 08-10 14:00:39] {3190} INFO -  at 1.2s,\testimator lgbm's best error=0.1385,\tbest estimator lgbm's best error=0.1385\n",
      "[flaml.automl: 08-10 14:00:39] {3010} INFO - iteration 16, current learner lgbm\n",
      "[flaml.automl: 08-10 14:00:39] {3190} INFO -  at 1.3s,\testimator lgbm's best error=0.1385,\tbest estimator lgbm's best error=0.1385\n",
      "[flaml.automl: 08-10 14:00:39] {3010} INFO - iteration 17, current learner lgbm\n",
      "[flaml.automl: 08-10 14:00:39] {3190} INFO -  at 1.3s,\testimator lgbm's best error=0.1385,\tbest estimator lgbm's best error=0.1385\n",
      "[flaml.automl: 08-10 14:00:39] {3010} INFO - iteration 18, current learner lgbm\n",
      "[flaml.automl: 08-10 14:00:39] {3190} INFO -  at 1.4s,\testimator lgbm's best error=0.1385,\tbest estimator lgbm's best error=0.1385\n",
      "[flaml.automl: 08-10 14:00:39] {3010} INFO - iteration 19, current learner lgbm\n",
      "[flaml.automl: 08-10 14:00:39] {3190} INFO -  at 1.5s,\testimator lgbm's best error=0.1385,\tbest estimator lgbm's best error=0.1385\n",
      "[flaml.automl: 08-10 14:00:39] {3010} INFO - iteration 20, current learner lgbm\n",
      "[flaml.automl: 08-10 14:00:39] {3190} INFO -  at 1.6s,\testimator lgbm's best error=0.1385,\tbest estimator lgbm's best error=0.1385\n",
      "[flaml.automl: 08-10 14:00:39] {3010} INFO - iteration 21, current learner lgbm\n",
      "[flaml.automl: 08-10 14:00:39] {3190} INFO -  at 1.6s,\testimator lgbm's best error=0.1385,\tbest estimator lgbm's best error=0.1385\n",
      "[flaml.automl: 08-10 14:00:39] {3010} INFO - iteration 22, current learner lgbm\n",
      "[flaml.automl: 08-10 14:00:39] {3190} INFO -  at 1.8s,\testimator lgbm's best error=0.1385,\tbest estimator lgbm's best error=0.1385\n",
      "[flaml.automl: 08-10 14:00:39] {3010} INFO - iteration 23, current learner lgbm\n",
      "[flaml.automl: 08-10 14:00:39] {3190} INFO -  at 1.8s,\testimator lgbm's best error=0.1385,\tbest estimator lgbm's best error=0.1385\n",
      "[flaml.automl: 08-10 14:00:39] {3010} INFO - iteration 24, current learner lgbm\n",
      "[flaml.automl: 08-10 14:00:39] {3190} INFO -  at 1.9s,\testimator lgbm's best error=0.1385,\tbest estimator lgbm's best error=0.1385\n",
      "[flaml.automl: 08-10 14:00:39] {3010} INFO - iteration 25, current learner lgbm\n",
      "[flaml.automl: 08-10 14:00:39] {3190} INFO -  at 2.0s,\testimator lgbm's best error=0.1385,\tbest estimator lgbm's best error=0.1385\n",
      "[flaml.automl: 08-10 14:00:39] {3010} INFO - iteration 26, current learner lgbm\n",
      "[flaml.automl: 08-10 14:00:39] {3190} INFO -  at 2.1s,\testimator lgbm's best error=0.1325,\tbest estimator lgbm's best error=0.1325\n",
      "[flaml.automl: 08-10 14:00:39] {3010} INFO - iteration 27, current learner lgbm\n",
      "[flaml.automl: 08-10 14:00:40] {3190} INFO -  at 2.1s,\testimator lgbm's best error=0.1325,\tbest estimator lgbm's best error=0.1325\n",
      "[flaml.automl: 08-10 14:00:40] {3010} INFO - iteration 28, current learner lgbm\n",
      "[flaml.automl: 08-10 14:00:40] {3190} INFO -  at 2.2s,\testimator lgbm's best error=0.1255,\tbest estimator lgbm's best error=0.1255\n",
      "[flaml.automl: 08-10 14:00:40] {3010} INFO - iteration 29, current learner lgbm\n",
      "[flaml.automl: 08-10 14:00:40] {3190} INFO -  at 2.3s,\testimator lgbm's best error=0.1255,\tbest estimator lgbm's best error=0.1255\n",
      "[flaml.automl: 08-10 14:00:40] {3010} INFO - iteration 30, current learner lgbm\n",
      "[flaml.automl: 08-10 14:00:40] {3190} INFO -  at 2.4s,\testimator lgbm's best error=0.1255,\tbest estimator lgbm's best error=0.1255\n",
      "[flaml.automl: 08-10 14:00:40] {3010} INFO - iteration 31, current learner lgbm\n",
      "[flaml.automl: 08-10 14:00:40] {3190} INFO -  at 2.5s,\testimator lgbm's best error=0.1255,\tbest estimator lgbm's best error=0.1255\n",
      "[flaml.automl: 08-10 14:00:40] {3010} INFO - iteration 32, current learner lgbm\n",
      "[flaml.automl: 08-10 14:00:40] {3190} INFO -  at 2.6s,\testimator lgbm's best error=0.1246,\tbest estimator lgbm's best error=0.1246\n",
      "[flaml.automl: 08-10 14:00:40] {3010} INFO - iteration 33, current learner lgbm\n",
      "[flaml.automl: 08-10 14:00:40] {3190} INFO -  at 2.7s,\testimator lgbm's best error=0.1246,\tbest estimator lgbm's best error=0.1246\n",
      "[flaml.automl: 08-10 14:00:40] {3010} INFO - iteration 34, current learner lgbm\n",
      "[flaml.automl: 08-10 14:00:40] {3190} INFO -  at 2.8s,\testimator lgbm's best error=0.1246,\tbest estimator lgbm's best error=0.1246\n",
      "[flaml.automl: 08-10 14:00:40] {3010} INFO - iteration 35, current learner lgbm\n",
      "[flaml.automl: 08-10 14:00:40] {3190} INFO -  at 2.9s,\testimator lgbm's best error=0.1246,\tbest estimator lgbm's best error=0.1246\n",
      "[flaml.automl: 08-10 14:00:40] {3010} INFO - iteration 36, current learner lgbm\n",
      "[flaml.automl: 08-10 14:00:40] {3190} INFO -  at 3.0s,\testimator lgbm's best error=0.1246,\tbest estimator lgbm's best error=0.1246\n",
      "[flaml.automl: 08-10 14:00:40] {3010} INFO - iteration 37, current learner lgbm\n",
      "[flaml.automl: 08-10 14:00:41] {3190} INFO -  at 3.1s,\testimator lgbm's best error=0.1246,\tbest estimator lgbm's best error=0.1246\n",
      "[flaml.automl: 08-10 14:00:41] {3010} INFO - iteration 38, current learner lgbm\n",
      "[flaml.automl: 08-10 14:00:41] {3190} INFO -  at 3.2s,\testimator lgbm's best error=0.1246,\tbest estimator lgbm's best error=0.1246\n",
      "[flaml.automl: 08-10 14:00:41] {3010} INFO - iteration 39, current learner lgbm\n",
      "[flaml.automl: 08-10 14:00:41] {3190} INFO -  at 3.3s,\testimator lgbm's best error=0.1246,\tbest estimator lgbm's best error=0.1246\n",
      "[flaml.automl: 08-10 14:00:41] {3010} INFO - iteration 40, current learner lgbm\n",
      "[flaml.automl: 08-10 14:00:41] {3190} INFO -  at 3.4s,\testimator lgbm's best error=0.1246,\tbest estimator lgbm's best error=0.1246\n",
      "[flaml.automl: 08-10 14:00:41] {3010} INFO - iteration 41, current learner lgbm\n",
      "[flaml.automl: 08-10 14:00:41] {3190} INFO -  at 3.5s,\testimator lgbm's best error=0.1246,\tbest estimator lgbm's best error=0.1246\n",
      "[flaml.automl: 08-10 14:00:41] {3010} INFO - iteration 42, current learner lgbm\n",
      "[flaml.automl: 08-10 14:00:41] {3190} INFO -  at 3.6s,\testimator lgbm's best error=0.1246,\tbest estimator lgbm's best error=0.1246\n",
      "[flaml.automl: 08-10 14:00:41] {3010} INFO - iteration 43, current learner lgbm\n",
      "[flaml.automl: 08-10 14:00:41] {3190} INFO -  at 3.7s,\testimator lgbm's best error=0.1246,\tbest estimator lgbm's best error=0.1246\n",
      "[flaml.automl: 08-10 14:00:41] {3010} INFO - iteration 44, current learner lgbm\n",
      "[flaml.automl: 08-10 14:00:41] {3190} INFO -  at 3.8s,\testimator lgbm's best error=0.1246,\tbest estimator lgbm's best error=0.1246\n",
      "[flaml.automl: 08-10 14:00:41] {3010} INFO - iteration 45, current learner lgbm\n",
      "[flaml.automl: 08-10 14:00:41] {3190} INFO -  at 3.9s,\testimator lgbm's best error=0.1230,\tbest estimator lgbm's best error=0.1230\n",
      "[flaml.automl: 08-10 14:00:41] {3010} INFO - iteration 46, current learner lgbm\n",
      "[flaml.automl: 08-10 14:00:41] {3190} INFO -  at 4.0s,\testimator lgbm's best error=0.1230,\tbest estimator lgbm's best error=0.1230\n",
      "[flaml.automl: 08-10 14:00:41] {3010} INFO - iteration 47, current learner lgbm\n",
      "[flaml.automl: 08-10 14:00:42] {3190} INFO -  at 4.5s,\testimator lgbm's best error=0.1230,\tbest estimator lgbm's best error=0.1230\n",
      "[flaml.automl: 08-10 14:00:42] {3010} INFO - iteration 48, current learner lgbm\n",
      "[flaml.automl: 08-10 14:00:42] {3190} INFO -  at 4.7s,\testimator lgbm's best error=0.1230,\tbest estimator lgbm's best error=0.1230\n",
      "[flaml.automl: 08-10 14:00:42] {3010} INFO - iteration 49, current learner lgbm\n",
      "[flaml.automl: 08-10 14:00:42] {3190} INFO -  at 4.8s,\testimator lgbm's best error=0.1230,\tbest estimator lgbm's best error=0.1230\n",
      "[flaml.automl: 08-10 14:00:42] {3010} INFO - iteration 50, current learner lgbm\n",
      "[flaml.automl: 08-10 14:00:42] {3190} INFO -  at 5.0s,\testimator lgbm's best error=0.1230,\tbest estimator lgbm's best error=0.1230\n",
      "[flaml.automl: 08-10 14:00:42] {3010} INFO - iteration 51, current learner lgbm\n",
      "[flaml.automl: 08-10 14:00:43] {3190} INFO -  at 5.1s,\testimator lgbm's best error=0.1230,\tbest estimator lgbm's best error=0.1230\n",
      "[flaml.automl: 08-10 14:00:43] {3010} INFO - iteration 52, current learner lgbm\n",
      "[flaml.automl: 08-10 14:00:43] {3190} INFO -  at 5.3s,\testimator lgbm's best error=0.1189,\tbest estimator lgbm's best error=0.1189\n",
      "[flaml.automl: 08-10 14:00:43] {3010} INFO - iteration 53, current learner lgbm\n",
      "[flaml.automl: 08-10 14:00:43] {3190} INFO -  at 5.4s,\testimator lgbm's best error=0.1189,\tbest estimator lgbm's best error=0.1189\n",
      "[flaml.automl: 08-10 14:00:43] {3010} INFO - iteration 54, current learner lgbm\n",
      "[flaml.automl: 08-10 14:00:43] {3190} INFO -  at 5.6s,\testimator lgbm's best error=0.1189,\tbest estimator lgbm's best error=0.1189\n",
      "[flaml.automl: 08-10 14:00:43] {3010} INFO - iteration 55, current learner lgbm\n",
      "[flaml.automl: 08-10 14:00:43] {3190} INFO -  at 5.7s,\testimator lgbm's best error=0.1189,\tbest estimator lgbm's best error=0.1189\n",
      "[flaml.automl: 08-10 14:00:43] {3010} INFO - iteration 56, current learner lgbm\n",
      "[flaml.automl: 08-10 14:00:43] {3190} INFO -  at 5.8s,\testimator lgbm's best error=0.1189,\tbest estimator lgbm's best error=0.1189\n",
      "[flaml.automl: 08-10 14:00:43] {3010} INFO - iteration 57, current learner lgbm\n",
      "[flaml.automl: 08-10 14:00:44] {3190} INFO -  at 6.3s,\testimator lgbm's best error=0.1168,\tbest estimator lgbm's best error=0.1168\n",
      "[flaml.automl: 08-10 14:00:44] {3010} INFO - iteration 58, current learner lgbm\n",
      "[flaml.automl: 08-10 14:00:44] {3190} INFO -  at 6.5s,\testimator lgbm's best error=0.1168,\tbest estimator lgbm's best error=0.1168\n",
      "[flaml.automl: 08-10 14:00:44] {3010} INFO - iteration 59, current learner lgbm\n",
      "[flaml.automl: 08-10 14:00:45] {3190} INFO -  at 7.6s,\testimator lgbm's best error=0.1168,\tbest estimator lgbm's best error=0.1168\n",
      "[flaml.automl: 08-10 14:00:45] {3010} INFO - iteration 60, current learner lgbm\n",
      "[flaml.automl: 08-10 14:00:45] {3190} INFO -  at 8.0s,\testimator lgbm's best error=0.1168,\tbest estimator lgbm's best error=0.1168\n",
      "[flaml.automl: 08-10 14:00:45] {3010} INFO - iteration 61, current learner lgbm\n",
      "[flaml.automl: 08-10 14:00:46] {3190} INFO -  at 8.1s,\testimator lgbm's best error=0.1168,\tbest estimator lgbm's best error=0.1168\n",
      "[flaml.automl: 08-10 14:00:46] {3010} INFO - iteration 62, current learner lgbm\n",
      "[flaml.automl: 08-10 14:00:46] {3190} INFO -  at 8.5s,\testimator lgbm's best error=0.1050,\tbest estimator lgbm's best error=0.1050\n",
      "[flaml.automl: 08-10 14:00:46] {3010} INFO - iteration 63, current learner lgbm\n",
      "[flaml.automl: 08-10 14:00:46] {3190} INFO -  at 8.7s,\testimator lgbm's best error=0.1050,\tbest estimator lgbm's best error=0.1050\n",
      "[flaml.automl: 08-10 14:00:46] {3010} INFO - iteration 64, current learner lgbm\n",
      "[flaml.automl: 08-10 14:00:47] {3190} INFO -  at 9.7s,\testimator lgbm's best error=0.1050,\tbest estimator lgbm's best error=0.1050\n",
      "[flaml.automl: 08-10 14:00:47] {3010} INFO - iteration 65, current learner lgbm\n",
      "[flaml.automl: 08-10 14:00:47] {3190} INFO -  at 9.8s,\testimator lgbm's best error=0.1050,\tbest estimator lgbm's best error=0.1050\n",
      "[flaml.automl: 08-10 14:00:47] {3010} INFO - iteration 66, current learner lgbm\n",
      "[flaml.automl: 08-10 14:00:48] {3190} INFO -  at 10.7s,\testimator lgbm's best error=0.1050,\tbest estimator lgbm's best error=0.1050\n",
      "[flaml.automl: 08-10 14:00:48] {3010} INFO - iteration 67, current learner lgbm\n",
      "[flaml.automl: 08-10 14:00:48] {3190} INFO -  at 10.8s,\testimator lgbm's best error=0.1050,\tbest estimator lgbm's best error=0.1050\n",
      "[flaml.automl: 08-10 14:00:48] {3010} INFO - iteration 68, current learner lgbm\n",
      "[flaml.automl: 08-10 14:00:49] {3190} INFO -  at 11.3s,\testimator lgbm's best error=0.1035,\tbest estimator lgbm's best error=0.1035\n",
      "[flaml.automl: 08-10 14:00:49] {3010} INFO - iteration 69, current learner lgbm\n",
      "[flaml.automl: 08-10 14:00:49] {3190} INFO -  at 11.4s,\testimator lgbm's best error=0.1035,\tbest estimator lgbm's best error=0.1035\n",
      "[flaml.automl: 08-10 14:00:49] {3010} INFO - iteration 70, current learner lgbm\n",
      "[flaml.automl: 08-10 14:00:49] {3190} INFO -  at 11.8s,\testimator lgbm's best error=0.1035,\tbest estimator lgbm's best error=0.1035\n",
      "[flaml.automl: 08-10 14:00:49] {3010} INFO - iteration 71, current learner lgbm\n",
      "[flaml.automl: 08-10 14:00:50] {3190} INFO -  at 12.3s,\testimator lgbm's best error=0.1035,\tbest estimator lgbm's best error=0.1035\n",
      "[flaml.automl: 08-10 14:00:50] {3010} INFO - iteration 72, current learner lgbm\n",
      "[flaml.automl: 08-10 14:00:50] {3190} INFO -  at 12.5s,\testimator lgbm's best error=0.1035,\tbest estimator lgbm's best error=0.1035\n",
      "[flaml.automl: 08-10 14:00:50] {3010} INFO - iteration 73, current learner lgbm\n",
      "[flaml.automl: 08-10 14:00:50] {3190} INFO -  at 13.0s,\testimator lgbm's best error=0.1035,\tbest estimator lgbm's best error=0.1035\n",
      "[flaml.automl: 08-10 14:00:50] {3010} INFO - iteration 74, current learner lgbm\n",
      "[flaml.automl: 08-10 14:00:52] {3190} INFO -  at 14.4s,\testimator lgbm's best error=0.1035,\tbest estimator lgbm's best error=0.1035\n",
      "[flaml.automl: 08-10 14:00:52] {3010} INFO - iteration 75, current learner lgbm\n",
      "[flaml.automl: 08-10 14:00:52] {3190} INFO -  at 14.6s,\testimator lgbm's best error=0.1035,\tbest estimator lgbm's best error=0.1035\n",
      "[flaml.automl: 08-10 14:00:52] {3010} INFO - iteration 76, current learner lgbm\n",
      "[flaml.automl: 08-10 14:00:52] {3190} INFO -  at 14.7s,\testimator lgbm's best error=0.1035,\tbest estimator lgbm's best error=0.1035\n",
      "[flaml.automl: 08-10 14:00:52] {3010} INFO - iteration 77, current learner lgbm\n",
      "[flaml.automl: 08-10 14:00:54] {3190} INFO -  at 16.2s,\testimator lgbm's best error=0.1035,\tbest estimator lgbm's best error=0.1035\n",
      "[flaml.automl: 08-10 14:00:54] {3010} INFO - iteration 78, current learner lgbm\n",
      "[flaml.automl: 08-10 14:00:55] {3190} INFO -  at 17.1s,\testimator lgbm's best error=0.1035,\tbest estimator lgbm's best error=0.1035\n",
      "[flaml.automl: 08-10 14:00:55] {3010} INFO - iteration 79, current learner lgbm\n",
      "[flaml.automl: 08-10 14:00:55] {3190} INFO -  at 17.4s,\testimator lgbm's best error=0.1035,\tbest estimator lgbm's best error=0.1035\n",
      "[flaml.automl: 08-10 14:00:55] {3010} INFO - iteration 80, current learner lgbm\n",
      "[flaml.automl: 08-10 14:00:55] {3190} INFO -  at 17.8s,\testimator lgbm's best error=0.1035,\tbest estimator lgbm's best error=0.1035\n",
      "[flaml.automl: 08-10 14:00:55] {3010} INFO - iteration 81, current learner lgbm\n",
      "[flaml.automl: 08-10 14:00:56] {3190} INFO -  at 18.1s,\testimator lgbm's best error=0.1035,\tbest estimator lgbm's best error=0.1035\n",
      "[flaml.automl: 08-10 14:00:56] {3010} INFO - iteration 82, current learner lgbm\n",
      "[flaml.automl: 08-10 14:00:56] {3190} INFO -  at 18.6s,\testimator lgbm's best error=0.1035,\tbest estimator lgbm's best error=0.1035\n",
      "[flaml.automl: 08-10 14:00:56] {3010} INFO - iteration 83, current learner lgbm\n",
      "[flaml.automl: 08-10 14:00:56] {3190} INFO -  at 18.8s,\testimator lgbm's best error=0.1035,\tbest estimator lgbm's best error=0.1035\n",
      "[flaml.automl: 08-10 14:00:56] {3010} INFO - iteration 84, current learner lgbm\n",
      "[flaml.automl: 08-10 14:00:56] {3190} INFO -  at 19.0s,\testimator lgbm's best error=0.1035,\tbest estimator lgbm's best error=0.1035\n",
      "[flaml.automl: 08-10 14:00:56] {3010} INFO - iteration 85, current learner lgbm\n",
      "[flaml.automl: 08-10 14:00:57] {3190} INFO -  at 19.4s,\testimator lgbm's best error=0.1035,\tbest estimator lgbm's best error=0.1035\n",
      "[flaml.automl: 08-10 14:00:57] {3010} INFO - iteration 86, current learner lgbm\n",
      "[flaml.automl: 08-10 14:00:57] {3190} INFO -  at 19.7s,\testimator lgbm's best error=0.1035,\tbest estimator lgbm's best error=0.1035\n",
      "[flaml.automl: 08-10 14:00:57] {3010} INFO - iteration 87, current learner lgbm\n",
      "[flaml.automl: 08-10 14:00:57] {3190} INFO -  at 20.0s,\testimator lgbm's best error=0.1035,\tbest estimator lgbm's best error=0.1035\n",
      "[flaml.automl: 08-10 14:00:57] {3010} INFO - iteration 88, current learner lgbm\n",
      "[flaml.automl: 08-10 14:00:59] {3190} INFO -  at 21.2s,\testimator lgbm's best error=0.1029,\tbest estimator lgbm's best error=0.1029\n",
      "[flaml.automl: 08-10 14:00:59] {3010} INFO - iteration 89, current learner lgbm\n",
      "[flaml.automl: 08-10 14:00:59] {3190} INFO -  at 21.4s,\testimator lgbm's best error=0.1029,\tbest estimator lgbm's best error=0.1029\n",
      "[flaml.automl: 08-10 14:00:59] {3010} INFO - iteration 90, current learner lgbm\n",
      "[flaml.automl: 08-10 14:01:00] {3190} INFO -  at 22.6s,\testimator lgbm's best error=0.1029,\tbest estimator lgbm's best error=0.1029\n",
      "[flaml.automl: 08-10 14:01:00] {3010} INFO - iteration 91, current learner lgbm\n",
      "[flaml.automl: 08-10 14:01:00] {3190} INFO -  at 23.0s,\testimator lgbm's best error=0.1029,\tbest estimator lgbm's best error=0.1029\n",
      "[flaml.automl: 08-10 14:01:00] {3010} INFO - iteration 92, current learner lgbm\n",
      "[flaml.automl: 08-10 14:01:02] {3190} INFO -  at 24.9s,\testimator lgbm's best error=0.1029,\tbest estimator lgbm's best error=0.1029\n",
      "[flaml.automl: 08-10 14:01:02] {3010} INFO - iteration 93, current learner lgbm\n",
      "[flaml.automl: 08-10 14:01:03] {3190} INFO -  at 25.3s,\testimator lgbm's best error=0.1029,\tbest estimator lgbm's best error=0.1029\n",
      "[flaml.automl: 08-10 14:01:03] {3010} INFO - iteration 94, current learner lgbm\n",
      "[flaml.automl: 08-10 14:01:03] {3190} INFO -  at 25.6s,\testimator lgbm's best error=0.1029,\tbest estimator lgbm's best error=0.1029\n",
      "[flaml.automl: 08-10 14:01:03] {3010} INFO - iteration 95, current learner lgbm\n",
      "[flaml.automl: 08-10 14:01:05] {3190} INFO -  at 27.4s,\testimator lgbm's best error=0.1029,\tbest estimator lgbm's best error=0.1029\n",
      "[flaml.automl: 08-10 14:01:05] {3010} INFO - iteration 96, current learner lgbm\n",
      "[flaml.automl: 08-10 14:01:05] {3190} INFO -  at 27.7s,\testimator lgbm's best error=0.1029,\tbest estimator lgbm's best error=0.1029\n",
      "[flaml.automl: 08-10 14:01:05] {3010} INFO - iteration 97, current learner lgbm\n",
      "[flaml.automl: 08-10 14:01:07] {3190} INFO -  at 29.6s,\testimator lgbm's best error=0.1029,\tbest estimator lgbm's best error=0.1029\n",
      "[flaml.automl: 08-10 14:01:07] {3010} INFO - iteration 98, current learner lgbm\n",
      "[flaml.automl: 08-10 14:01:08] {3190} INFO -  at 30.1s,\testimator lgbm's best error=0.1029,\tbest estimator lgbm's best error=0.1029\n",
      "[flaml.automl: 08-10 14:01:08] {3010} INFO - iteration 99, current learner lgbm\n",
      "[flaml.automl: 08-10 14:01:08] {3190} INFO -  at 30.6s,\testimator lgbm's best error=0.1029,\tbest estimator lgbm's best error=0.1029\n",
      "[flaml.automl: 08-10 14:01:08] {3010} INFO - iteration 100, current learner lgbm\n",
      "[flaml.automl: 08-10 14:01:08] {3190} INFO -  at 30.8s,\testimator lgbm's best error=0.1029,\tbest estimator lgbm's best error=0.1029\n",
      "[flaml.automl: 08-10 14:01:08] {3010} INFO - iteration 101, current learner lgbm\n",
      "[flaml.automl: 08-10 14:01:10] {3190} INFO -  at 32.8s,\testimator lgbm's best error=0.1029,\tbest estimator lgbm's best error=0.1029\n",
      "[flaml.automl: 08-10 14:01:10] {3010} INFO - iteration 102, current learner lgbm\n",
      "[flaml.automl: 08-10 14:01:11] {3190} INFO -  at 33.3s,\testimator lgbm's best error=0.1029,\tbest estimator lgbm's best error=0.1029\n",
      "[flaml.automl: 08-10 14:01:11] {3010} INFO - iteration 103, current learner lgbm\n",
      "[flaml.automl: 08-10 14:01:11] {3190} INFO -  at 33.7s,\testimator lgbm's best error=0.1029,\tbest estimator lgbm's best error=0.1029\n",
      "[flaml.automl: 08-10 14:01:11] {3010} INFO - iteration 104, current learner lgbm\n",
      "[flaml.automl: 08-10 14:01:11] {3190} INFO -  at 34.0s,\testimator lgbm's best error=0.1029,\tbest estimator lgbm's best error=0.1029\n",
      "[flaml.automl: 08-10 14:01:11] {3010} INFO - iteration 105, current learner lgbm\n",
      "[flaml.automl: 08-10 14:01:13] {3190} INFO -  at 35.9s,\testimator lgbm's best error=0.1029,\tbest estimator lgbm's best error=0.1029\n",
      "[flaml.automl: 08-10 14:01:13] {3010} INFO - iteration 106, current learner lgbm\n",
      "[flaml.automl: 08-10 14:01:14] {3190} INFO -  at 36.3s,\testimator lgbm's best error=0.1029,\tbest estimator lgbm's best error=0.1029\n",
      "[flaml.automl: 08-10 14:01:14] {3010} INFO - iteration 107, current learner lgbm\n",
      "[flaml.automl: 08-10 14:01:16] {3190} INFO -  at 38.3s,\testimator lgbm's best error=0.1029,\tbest estimator lgbm's best error=0.1029\n",
      "[flaml.automl: 08-10 14:01:16] {3010} INFO - iteration 108, current learner lgbm\n",
      "[flaml.automl: 08-10 14:01:17] {3190} INFO -  at 39.8s,\testimator lgbm's best error=0.1025,\tbest estimator lgbm's best error=0.1025\n",
      "[flaml.automl: 08-10 14:01:17] {3010} INFO - iteration 109, current learner lgbm\n",
      "[flaml.automl: 08-10 14:01:18] {3190} INFO -  at 40.1s,\testimator lgbm's best error=0.1025,\tbest estimator lgbm's best error=0.1025\n",
      "[flaml.automl: 08-10 14:01:18] {3010} INFO - iteration 110, current learner lgbm\n",
      "[flaml.automl: 08-10 14:01:18] {3190} INFO -  at 40.4s,\testimator lgbm's best error=0.1025,\tbest estimator lgbm's best error=0.1025\n",
      "[flaml.automl: 08-10 14:01:18] {3010} INFO - iteration 111, current learner lgbm\n",
      "[flaml.automl: 08-10 14:01:18] {3190} INFO -  at 41.0s,\testimator lgbm's best error=0.1025,\tbest estimator lgbm's best error=0.1025\n",
      "[flaml.automl: 08-10 14:01:18] {3010} INFO - iteration 112, current learner lgbm\n",
      "[flaml.automl: 08-10 14:01:19] {3190} INFO -  at 41.3s,\testimator lgbm's best error=0.1025,\tbest estimator lgbm's best error=0.1025\n",
      "[flaml.automl: 08-10 14:01:19] {3010} INFO - iteration 113, current learner lgbm\n",
      "[flaml.automl: 08-10 14:01:20] {3190} INFO -  at 42.9s,\testimator lgbm's best error=0.1025,\tbest estimator lgbm's best error=0.1025\n",
      "[flaml.automl: 08-10 14:01:20] {3010} INFO - iteration 114, current learner lgbm\n",
      "[flaml.automl: 08-10 14:01:21] {3190} INFO -  at 43.1s,\testimator lgbm's best error=0.1025,\tbest estimator lgbm's best error=0.1025\n",
      "[flaml.automl: 08-10 14:01:21] {3010} INFO - iteration 115, current learner lgbm\n",
      "[flaml.automl: 08-10 14:01:22] {3190} INFO -  at 45.1s,\testimator lgbm's best error=0.1025,\tbest estimator lgbm's best error=0.1025\n",
      "[flaml.automl: 08-10 14:01:22] {3010} INFO - iteration 116, current learner lgbm\n",
      "[flaml.automl: 08-10 14:01:24] {3190} INFO -  at 47.0s,\testimator lgbm's best error=0.1025,\tbest estimator lgbm's best error=0.1025\n",
      "[flaml.automl: 08-10 14:01:24] {3010} INFO - iteration 117, current learner lgbm\n",
      "[flaml.automl: 08-10 14:01:25] {3190} INFO -  at 47.3s,\testimator lgbm's best error=0.1025,\tbest estimator lgbm's best error=0.1025\n",
      "[flaml.automl: 08-10 14:01:25] {3010} INFO - iteration 118, current learner lgbm\n",
      "[flaml.automl: 08-10 14:01:25] {3190} INFO -  at 47.6s,\testimator lgbm's best error=0.1025,\tbest estimator lgbm's best error=0.1025\n",
      "[flaml.automl: 08-10 14:01:25] {3010} INFO - iteration 119, current learner lgbm\n",
      "[flaml.automl: 08-10 14:01:27] {3190} INFO -  at 49.5s,\testimator lgbm's best error=0.1025,\tbest estimator lgbm's best error=0.1025\n",
      "[flaml.automl: 08-10 14:01:27] {3010} INFO - iteration 120, current learner lgbm\n",
      "[flaml.automl: 08-10 14:01:28] {3190} INFO -  at 50.7s,\testimator lgbm's best error=0.1025,\tbest estimator lgbm's best error=0.1025\n",
      "[flaml.automl: 08-10 14:01:28] {3010} INFO - iteration 121, current learner lgbm\n",
      "[flaml.automl: 08-10 14:01:30] {3190} INFO -  at 52.7s,\testimator lgbm's best error=0.1025,\tbest estimator lgbm's best error=0.1025\n",
      "[flaml.automl: 08-10 14:01:30] {3010} INFO - iteration 122, current learner lgbm\n",
      "[flaml.automl: 08-10 14:01:32] {3190} INFO -  at 54.9s,\testimator lgbm's best error=0.1025,\tbest estimator lgbm's best error=0.1025\n",
      "[flaml.automl: 08-10 14:01:32] {3010} INFO - iteration 123, current learner lgbm\n",
      "[flaml.automl: 08-10 14:01:33] {3190} INFO -  at 55.4s,\testimator lgbm's best error=0.1025,\tbest estimator lgbm's best error=0.1025\n",
      "[flaml.automl: 08-10 14:01:33] {3010} INFO - iteration 124, current learner lgbm\n",
      "[flaml.automl: 08-10 14:01:33] {3190} INFO -  at 56.0s,\testimator lgbm's best error=0.1025,\tbest estimator lgbm's best error=0.1025\n",
      "[flaml.automl: 08-10 14:01:33] {3010} INFO - iteration 125, current learner lgbm\n",
      "[flaml.automl: 08-10 14:01:36] {3190} INFO -  at 58.3s,\testimator lgbm's best error=0.1025,\tbest estimator lgbm's best error=0.1025\n",
      "[flaml.automl: 08-10 14:01:36] {3010} INFO - iteration 126, current learner lgbm\n",
      "[flaml.automl: 08-10 14:01:36] {3190} INFO -  at 58.9s,\testimator lgbm's best error=0.1025,\tbest estimator lgbm's best error=0.1025\n",
      "[flaml.automl: 08-10 14:01:37] {3454} INFO - retrain lgbm for 0.4s\n",
      "[flaml.automl: 08-10 14:01:37] {3461} INFO - retrained model: LGBMRegressor(colsample_bytree=0.9184265219428027, learning_rate=1.0,\n",
      "              max_bin=1023, min_child_samples=2, n_estimators=2,\n",
      "              num_leaves=12558, reg_alpha=0.0009765625,\n",
      "              reg_lambda=0.007137552319733636, verbose=-1)\n",
      "[flaml.automl: 08-10 14:01:37] {2739} INFO - fit succeeded\n",
      "[flaml.automl: 08-10 14:01:37] {2740} INFO - Time taken to find the best model: 39.84993052482605\n"
     ]
    }
   ],
   "source": [
    "from flaml import AutoML\n",
    "\n",
    "automl = AutoML()\n",
    "settings = {\n",
    "    \"time_budget\": 60,  # total running time in seconds\n",
    "    \"metric\": 'r2',  # primary metrics for regression can be chosen from: ['mae','mse','r2']\n",
    "    \"estimator_list\": ['lgbm'],  # list of ML learners; we tune lightgbm in this example\n",
    "    \"task\": 'regression',  # task type\n",
    "    \"log_file_name\": 'houses_experiment.log',  # flaml log file\n",
    "    \"seed\": 7654321,    # random seed\n",
    "}\n",
    "automl.fit(X_train=X_train, y_train=y_train, **settings)"
   ]
  },
  {
   "cell_type": "code",
   "execution_count": 22,
   "id": "5eb87ae5",
   "metadata": {},
   "outputs": [
    {
     "name": "stdout",
     "output_type": "stream",
     "text": [
      "Best hyperparmeter config: {'n_estimators': 16, 'num_leaves': 12558, 'min_child_samples': 2, 'learning_rate': 1.0, 'log_max_bin': 10, 'colsample_bytree': 0.9184265219428027, 'reg_alpha': 0.0009765625, 'reg_lambda': 0.007137552319733636}\n",
      "Best r2 on validation data: 0.8975\n",
      "Training duration of best run: 0.3988 s\n",
      "LGBMRegressor(colsample_bytree=0.9184265219428027, learning_rate=1.0,\n",
      "              max_bin=1023, min_child_samples=2, n_estimators=2,\n",
      "              num_leaves=12558, reg_alpha=0.0009765625,\n",
      "              reg_lambda=0.007137552319733636, verbose=-1)\n"
     ]
    }
   ],
   "source": [
    "print('Best hyperparmeter config:', automl.best_config)\n",
    "print('Best r2 on validation data: {0:.4g}'.format(1-automl.best_loss))\n",
    "print('Training duration of best run: {0:.4g} s'.format(automl.best_config_train_time))\n",
    "print(automl.model.estimator)"
   ]
  },
  {
   "cell_type": "code",
   "execution_count": 23,
   "id": "2daa3fa2",
   "metadata": {},
   "outputs": [
    {
     "name": "stdout",
     "output_type": "stream",
     "text": [
      "Best hyperparmeter config: {'n_estimators': 16, 'num_leaves': 12558, 'min_child_samples': 2, 'learning_rate': 1.0, 'log_max_bin': 10, 'colsample_bytree': 0.9184265219428027, 'reg_alpha': 0.0009765625, 'reg_lambda': 0.007137552319733636}\n",
      "Best r2 on validation data: 0.8975\n",
      "Training duration of best run: 0.3988 s\n",
      "LGBMRegressor(colsample_bytree=0.9184265219428027, learning_rate=1.0,\n",
      "              max_bin=1023, min_child_samples=2, n_estimators=2,\n",
      "              num_leaves=12558, reg_alpha=0.0009765625,\n",
      "              reg_lambda=0.007137552319733636, verbose=-1)\n"
     ]
    }
   ],
   "source": [
    "from flaml.ml import sklearn_metric_loss_score\n",
    "print('Best hyperparmeter config:', automl.best_config)\n",
    "print('Best r2 on validation data: {0:.4g}'.format(1-automl.best_loss))\n",
    "print('Training duration of best run: {0:.4g} s'.format(automl.best_config_train_time))\n",
    "print(automl.model.estimator)\n"
   ]
  },
  {
   "cell_type": "code",
   "execution_count": 24,
   "id": "1116f387",
   "metadata": {},
   "outputs": [
    {
     "data": {
      "text/html": [
       "<style>#sk-container-id-1 {color: black;background-color: white;}#sk-container-id-1 pre{padding: 0;}#sk-container-id-1 div.sk-toggleable {background-color: white;}#sk-container-id-1 label.sk-toggleable__label {cursor: pointer;display: block;width: 100%;margin-bottom: 0;padding: 0.3em;box-sizing: border-box;text-align: center;}#sk-container-id-1 label.sk-toggleable__label-arrow:before {content: \"▸\";float: left;margin-right: 0.25em;color: #696969;}#sk-container-id-1 label.sk-toggleable__label-arrow:hover:before {color: black;}#sk-container-id-1 div.sk-estimator:hover label.sk-toggleable__label-arrow:before {color: black;}#sk-container-id-1 div.sk-toggleable__content {max-height: 0;max-width: 0;overflow: hidden;text-align: left;background-color: #f0f8ff;}#sk-container-id-1 div.sk-toggleable__content pre {margin: 0.2em;color: black;border-radius: 0.25em;background-color: #f0f8ff;}#sk-container-id-1 input.sk-toggleable__control:checked~div.sk-toggleable__content {max-height: 200px;max-width: 100%;overflow: auto;}#sk-container-id-1 input.sk-toggleable__control:checked~label.sk-toggleable__label-arrow:before {content: \"▾\";}#sk-container-id-1 div.sk-estimator input.sk-toggleable__control:checked~label.sk-toggleable__label {background-color: #d4ebff;}#sk-container-id-1 div.sk-label input.sk-toggleable__control:checked~label.sk-toggleable__label {background-color: #d4ebff;}#sk-container-id-1 input.sk-hidden--visually {border: 0;clip: rect(1px 1px 1px 1px);clip: rect(1px, 1px, 1px, 1px);height: 1px;margin: -1px;overflow: hidden;padding: 0;position: absolute;width: 1px;}#sk-container-id-1 div.sk-estimator {font-family: monospace;background-color: #f0f8ff;border: 1px dotted black;border-radius: 0.25em;box-sizing: border-box;margin-bottom: 0.5em;}#sk-container-id-1 div.sk-estimator:hover {background-color: #d4ebff;}#sk-container-id-1 div.sk-parallel-item::after {content: \"\";width: 100%;border-bottom: 1px solid gray;flex-grow: 1;}#sk-container-id-1 div.sk-label:hover label.sk-toggleable__label {background-color: #d4ebff;}#sk-container-id-1 div.sk-serial::before {content: \"\";position: absolute;border-left: 1px solid gray;box-sizing: border-box;top: 0;bottom: 0;left: 50%;z-index: 0;}#sk-container-id-1 div.sk-serial {display: flex;flex-direction: column;align-items: center;background-color: white;padding-right: 0.2em;padding-left: 0.2em;position: relative;}#sk-container-id-1 div.sk-item {position: relative;z-index: 1;}#sk-container-id-1 div.sk-parallel {display: flex;align-items: stretch;justify-content: center;background-color: white;position: relative;}#sk-container-id-1 div.sk-item::before, #sk-container-id-1 div.sk-parallel-item::before {content: \"\";position: absolute;border-left: 1px solid gray;box-sizing: border-box;top: 0;bottom: 0;left: 50%;z-index: -1;}#sk-container-id-1 div.sk-parallel-item {display: flex;flex-direction: column;z-index: 1;position: relative;background-color: white;}#sk-container-id-1 div.sk-parallel-item:first-child::after {align-self: flex-end;width: 50%;}#sk-container-id-1 div.sk-parallel-item:last-child::after {align-self: flex-start;width: 50%;}#sk-container-id-1 div.sk-parallel-item:only-child::after {width: 0;}#sk-container-id-1 div.sk-dashed-wrapped {border: 1px dashed gray;margin: 0 0.4em 0.5em 0.4em;box-sizing: border-box;padding-bottom: 0.4em;background-color: white;}#sk-container-id-1 div.sk-label label {font-family: monospace;font-weight: bold;display: inline-block;line-height: 1.2em;}#sk-container-id-1 div.sk-label-container {text-align: center;}#sk-container-id-1 div.sk-container {/* jupyter's `normalize.less` sets `[hidden] { display: none; }` but bootstrap.min.css set `[hidden] { display: none !important; }` so we also need the `!important` here to be able to override the default hidden behavior on the sphinx rendered scikit-learn.org. See: https://github.com/scikit-learn/scikit-learn/issues/21755 */display: inline-block !important;position: relative;}#sk-container-id-1 div.sk-text-repr-fallback {display: none;}</style><div id=\"sk-container-id-1\" class=\"sk-top-container\"><div class=\"sk-text-repr-fallback\"><pre>LGBMRegressor(colsample_bytree=0.9184265219428027, learning_rate=1.0,\n",
       "              max_bin=1023, min_child_samples=2, n_estimators=2,\n",
       "              num_leaves=12558, reg_alpha=0.0009765625,\n",
       "              reg_lambda=0.007137552319733636, verbose=-1)</pre><b>In a Jupyter environment, please rerun this cell to show the HTML representation or trust the notebook. <br />On GitHub, the HTML representation is unable to render, please try loading this page with nbviewer.org.</b></div><div class=\"sk-container\" hidden><div class=\"sk-item\"><div class=\"sk-estimator sk-toggleable\"><input class=\"sk-toggleable__control sk-hidden--visually\" id=\"sk-estimator-id-1\" type=\"checkbox\" checked><label for=\"sk-estimator-id-1\" class=\"sk-toggleable__label sk-toggleable__label-arrow\">LGBMRegressor</label><div class=\"sk-toggleable__content\"><pre>LGBMRegressor(colsample_bytree=0.9184265219428027, learning_rate=1.0,\n",
       "              max_bin=1023, min_child_samples=2, n_estimators=2,\n",
       "              num_leaves=12558, reg_alpha=0.0009765625,\n",
       "              reg_lambda=0.007137552319733636, verbose=-1)</pre></div></div></div></div></div>"
      ],
      "text/plain": [
       "LGBMRegressor(colsample_bytree=0.9184265219428027, learning_rate=1.0,\n",
       "              max_bin=1023, min_child_samples=2, n_estimators=2,\n",
       "              num_leaves=12558, reg_alpha=0.0009765625,\n",
       "              reg_lambda=0.007137552319733636, verbose=-1)"
      ]
     },
     "execution_count": 24,
     "metadata": {},
     "output_type": "execute_result"
    }
   ],
   "source": [
    "automl.model.estimator"
   ]
  },
  {
   "cell_type": "code",
   "execution_count": 25,
   "id": "b75c06d6",
   "metadata": {},
   "outputs": [
    {
     "data": {
      "text/plain": [
       "<BarContainer object of 5 artists>"
      ]
     },
     "execution_count": 25,
     "metadata": {},
     "output_type": "execute_result"
    },
    {
     "data": {
      "image/png": "[encoded data removed]",
      "text/plain": [
       "<Figure size 432x288 with 1 Axes>"
      ]
     },
     "metadata": {
      "needs_background": "light"
     },
     "output_type": "display_data"
    }
   ],
   "source": [
    "import matplotlib.pyplot as plt\n",
    "plt.barh(automl.feature_names_in_, automl.feature_importances_)"
   ]
  },
  {
   "cell_type": "code",
   "execution_count": 30,
   "id": "914b9e22",
   "metadata": {},
   "outputs": [
    {
     "name": "stdout",
     "output_type": "stream",
     "text": [
      "Predicted labels [4.44351733 5.2962474  5.26184629 ... 4.188166   4.58983842 4.61199516]\n",
      "r2 = 0.9013099834528042\n",
      "mse = 0.2078094761103252\n",
      "rmse = 0.45586124655461246\n"
     ]
    }
   ],
   "source": [
    "\n",
    "y_pred = automl.predict(X_test)\n",
    "print('Predicted labels', y_pred)\n",
    "\n",
    "\n",
    "from flaml.ml import sklearn_metric_loss_score\n",
    "print('r2', '=', 1 - sklearn_metric_loss_score('r2', y_pred, y_test))\n",
    "print('mse', '=', sklearn_metric_loss_score('mse', y_pred, y_test))\n",
    "print('rmse', '=' ,sklearn_metric_loss_score('rmse',y_pred,y_test))\n",
    "\n",
    "\n"
   ]
  },
  {
   "cell_type": "code",
   "execution_count": 27,
   "id": "a549b9ae",
   "metadata": {},
   "outputs": [],
   "source": [
    "# Predicting the test data\n",
    "pred =automl.predict(X_test1)"
   ]
  },
  {
   "cell_type": "code",
   "execution_count": 32,
   "id": "871186dc",
   "metadata": {},
   "outputs": [
    {
     "data": {
      "text/html": [
       "<div>\n",
       "<style scoped>\n",
       "    .dataframe tbody tr th:only-of-type {\n",
       "        vertical-align: middle;\n",
       "    }\n",
       "\n",
       "    .dataframe tbody tr th {\n",
       "        vertical-align: top;\n",
       "    }\n",
       "\n",
       "    .dataframe thead th {\n",
       "        text-align: right;\n",
       "    }\n",
       "</style>\n",
       "<table border=\"1\" class=\"dataframe\">\n",
       "  <thead>\n",
       "    <tr style=\"text-align: right;\">\n",
       "      <th></th>\n",
       "      <th>ID</th>\n",
       "      <th>Count</th>\n",
       "    </tr>\n",
       "  </thead>\n",
       "  <tbody>\n",
       "    <tr>\n",
       "      <th>0</th>\n",
       "      <td>18288</td>\n",
       "      <td>0</td>\n",
       "    </tr>\n",
       "    <tr>\n",
       "      <th>1</th>\n",
       "      <td>18289</td>\n",
       "      <td>0</td>\n",
       "    </tr>\n",
       "    <tr>\n",
       "      <th>2</th>\n",
       "      <td>18290</td>\n",
       "      <td>0</td>\n",
       "    </tr>\n",
       "    <tr>\n",
       "      <th>3</th>\n",
       "      <td>18291</td>\n",
       "      <td>0</td>\n",
       "    </tr>\n",
       "    <tr>\n",
       "      <th>4</th>\n",
       "      <td>18292</td>\n",
       "      <td>0</td>\n",
       "    </tr>\n",
       "  </tbody>\n",
       "</table>\n",
       "</div>"
      ],
      "text/plain": [
       "      ID  Count\n",
       "0  18288      0\n",
       "1  18289      0\n",
       "2  18290      0\n",
       "3  18291      0\n",
       "4  18292      0"
      ]
     },
     "execution_count": 32,
     "metadata": {},
     "output_type": "execute_result"
    }
   ],
   "source": [
    "test_df = pd.read_csv(r\"C:\\Users\\Chinnu\\Downloads\\Test_0qrQsBZ.csv\")\n",
    "submission = pd.read_csv(r\"C:\\Users\\Chinnu\\Downloads\\sample_submission_LSeus50.csv\")\n",
    "submission.head()"
   ]
  },
  {
   "cell_type": "code",
   "execution_count": 33,
   "id": "4adac78c",
   "metadata": {},
   "outputs": [],
   "source": [
    "submission=pd.DataFrame({'ID':test_df['ID'],'Count':pred})"
   ]
  },
  {
   "cell_type": "code",
   "execution_count": 34,
   "id": "0145169a",
   "metadata": {},
   "outputs": [],
   "source": [
    "submission.to_csv(r\"C:\\Users\\Chinnu\\Downloads\\sample_submission_LSeus50.csv\", index=False)"
   ]
  },
  {
   "cell_type": "code",
   "execution_count": 35,
   "id": "531c9bce",
   "metadata": {},
   "outputs": [
    {
     "data": {
      "text/html": [
       "<div>\n",
       "<style scoped>\n",
       "    .dataframe tbody tr th:only-of-type {\n",
       "        vertical-align: middle;\n",
       "    }\n",
       "\n",
       "    .dataframe tbody tr th {\n",
       "        vertical-align: top;\n",
       "    }\n",
       "\n",
       "    .dataframe thead th {\n",
       "        text-align: right;\n",
       "    }\n",
       "</style>\n",
       "<table border=\"1\" class=\"dataframe\">\n",
       "  <thead>\n",
       "    <tr style=\"text-align: right;\">\n",
       "      <th></th>\n",
       "      <th>ID</th>\n",
       "      <th>Count</th>\n",
       "    </tr>\n",
       "  </thead>\n",
       "  <tbody>\n",
       "    <tr>\n",
       "      <th>0</th>\n",
       "      <td>18288</td>\n",
       "      <td>6.339352</td>\n",
       "    </tr>\n",
       "    <tr>\n",
       "      <th>1</th>\n",
       "      <td>18289</td>\n",
       "      <td>6.339352</td>\n",
       "    </tr>\n",
       "    <tr>\n",
       "      <th>2</th>\n",
       "      <td>18290</td>\n",
       "      <td>6.339352</td>\n",
       "    </tr>\n",
       "    <tr>\n",
       "      <th>3</th>\n",
       "      <td>18291</td>\n",
       "      <td>6.339352</td>\n",
       "    </tr>\n",
       "    <tr>\n",
       "      <th>4</th>\n",
       "      <td>18292</td>\n",
       "      <td>6.339352</td>\n",
       "    </tr>\n",
       "  </tbody>\n",
       "</table>\n",
       "</div>"
      ],
      "text/plain": [
       "      ID     Count\n",
       "0  18288  6.339352\n",
       "1  18289  6.339352\n",
       "2  18290  6.339352\n",
       "3  18291  6.339352\n",
       "4  18292  6.339352"
      ]
     },
     "execution_count": 35,
     "metadata": {},
     "output_type": "execute_result"
    }
   ],
   "source": [
    "submission.head()"
   ]
  },
  {
   "cell_type": "code",
   "execution_count": null,
   "id": "7adf433c",
   "metadata": {},
   "outputs": [],
   "source": []
  }
 ],
 "metadata": {
  "kernelspec": {
   "display_name": "Python 3 (ipykernel)",
   "language": "python",
   "name": "python3"
  },
  "language_info": {
   "codemirror_mode": {
    "name": "ipython",
    "version": 3
   },
   "file_extension": ".py",
   "mimetype": "text/x-python",
   "name": "python",
   "nbconvert_exporter": "python",
   "pygments_lexer": "ipython3",
   "version": "3.9.7"
  }
 },
 "nbformat": 4,
 "nbformat_minor": 5
}
